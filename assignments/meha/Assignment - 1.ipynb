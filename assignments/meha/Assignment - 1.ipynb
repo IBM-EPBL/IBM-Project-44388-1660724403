{
 "cells": [
  {
   "cell_type": "markdown",
   "id": "dbcf4e2f",
   "metadata": {},
   "source": [
    "## Basic Python"
   ]
  },
  {
   "cell_type": "markdown",
   "id": "d5922469",
   "metadata": {},
   "source": [
    "### 1. Split this string"
   ]
  },
  {
   "cell_type": "code",
   "execution_count": 1,
   "id": "de89519e",
   "metadata": {},
   "outputs": [],
   "source": [
    "s = \"Hi there Sam!\""
   ]
  },
  {
   "cell_type": "code",
   "execution_count": 2,
   "id": "343fae7e",
   "metadata": {},
   "outputs": [
    {
     "name": "stdout",
     "output_type": "stream",
     "text": [
      "['Hi', 'there', 'Sam!']\n"
     ]
    }
   ],
   "source": [
    "n=s.split()\n",
    "print(n)"
   ]
  },
  {
   "cell_type": "markdown",
   "id": "21fbdbce",
   "metadata": {},
   "source": [
    "### 2. Use .format() to print the following string.\n",
    "\n",
    "\n",
    "### Output should be: The diameter of Earth is 12742 kilometers."
   ]
  },
  {
   "cell_type": "code",
   "execution_count": 3,
   "id": "86c352bf",
   "metadata": {},
   "outputs": [],
   "source": [
    "planet = \"Earth\"\n",
    "diameter = 12742\n"
   ]
  },
  {
   "cell_type": "code",
   "execution_count": 4,
   "id": "a0c254eb",
   "metadata": {},
   "outputs": [
    {
     "name": "stdout",
     "output_type": "stream",
     "text": [
      "The diameter of Earth is 12742 kilometers.\n"
     ]
    }
   ],
   "source": [
    "print('The diameter of {} is {} kilometers.'.format(planet, diameter))\n",
    "\n"
   ]
  },
  {
   "cell_type": "markdown",
   "id": "abbe3b6a",
   "metadata": {},
   "source": [
    "### 3. In this nest dictionary grab the word \"hello\" "
   ]
  },
  {
   "cell_type": "code",
   "execution_count": 5,
   "id": "fe69ead9",
   "metadata": {},
   "outputs": [],
   "source": [
    "d = {'k1':[1,2,3,{'tricky':['oh','man','inception',{'target':[1,2,3,'hello']}]}]}\n"
   ]
  },
  {
   "cell_type": "code",
   "execution_count": 6,
   "id": "5d839f0f",
   "metadata": {},
   "outputs": [
    {
     "data": {
      "text/plain": [
       "'hello'"
      ]
     },
     "execution_count": 6,
     "metadata": {},
     "output_type": "execute_result"
    }
   ],
   "source": [
    "d['k1'][3]['tricky'][3]['target'][3]"
   ]
  },
  {
   "cell_type": "markdown",
   "id": "3c3c792b",
   "metadata": {},
   "source": [
    "# Numpy"
   ]
  },
  {
   "cell_type": "code",
   "execution_count": 7,
   "id": "116166d0",
   "metadata": {},
   "outputs": [],
   "source": [
    "import numpy as np"
   ]
  },
  {
   "cell_type": "markdown",
   "id": "fff826d0",
   "metadata": {},
   "source": [
    "## 4.1 Create an array of 10 zeros?\n",
    "\n",
    "## 4.2 Create an array of 10 fives?"
   ]
  },
  {
   "cell_type": "code",
   "execution_count": 8,
   "id": "b025187f",
   "metadata": {},
   "outputs": [
    {
     "name": "stdout",
     "output_type": "stream",
     "text": [
      "An array of 10 zeros\n",
      "[0. 0. 0. 0. 0. 0. 0. 0. 0. 0.]\n"
     ]
    }
   ],
   "source": [
    "array=np.zeros(10)\n",
    "print(\"An array of 10 zeros\")\n",
    "print(array)"
   ]
  },
  {
   "cell_type": "code",
   "execution_count": 9,
   "id": "1c482c6c",
   "metadata": {},
   "outputs": [
    {
     "name": "stdout",
     "output_type": "stream",
     "text": [
      "An array of 10 fives\n",
      "[5. 5. 5. 5. 5. 5. 5. 5. 5. 5.]\n"
     ]
    }
   ],
   "source": [
    "array=np.ones(10)*5\n",
    "print(\"An array of 10 fives\")\n",
    "print(array)"
   ]
  },
  {
   "cell_type": "markdown",
   "id": "d55224ad",
   "metadata": {},
   "source": [
    "### 5. Create an array of all the even integers from 20 to 35"
   ]
  },
  {
   "cell_type": "code",
   "execution_count": 10,
   "id": "1b939474",
   "metadata": {},
   "outputs": [
    {
     "name": "stdout",
     "output_type": "stream",
     "text": [
      "[20 22 24 26 28 30 32 34]\n"
     ]
    }
   ],
   "source": [
    "a=np.arange(20,35,2)\n",
    "print(a)"
   ]
  },
  {
   "cell_type": "markdown",
   "id": "4a93d945",
   "metadata": {},
   "source": [
    "### 6. Create a 3x3 matrix with values ranging from 0 to 8"
   ]
  },
  {
   "cell_type": "code",
   "execution_count": 11,
   "id": "e895a259",
   "metadata": {},
   "outputs": [
    {
     "name": "stdout",
     "output_type": "stream",
     "text": [
      "[[0 1 2]\n",
      " [3 4 5]\n",
      " [6 7 8]]\n"
     ]
    }
   ],
   "source": [
    "x=np.arange(0,9).reshape(3,3)\n",
    "print(x)"
   ]
  },
  {
   "cell_type": "markdown",
   "id": "bf8373e9",
   "metadata": {},
   "source": [
    "### 7. Concatenate a and b\n",
    "\n",
    "### a = np.array([1, 2, 3]), b = np.array([4, 5, 6])"
   ]
  },
  {
   "cell_type": "code",
   "execution_count": 12,
   "id": "266afe15",
   "metadata": {},
   "outputs": [
    {
     "data": {
      "text/plain": [
       "array([1, 2, 3, 4, 5, 6])"
      ]
     },
     "execution_count": 12,
     "metadata": {},
     "output_type": "execute_result"
    }
   ],
   "source": [
    "a=np.array([1,2,3])\n",
    "b=np.array([4,5,6])\n",
    "np.concatenate((a, b,), axis=0, out=None)"
   ]
  },
  {
   "cell_type": "markdown",
   "id": "ee6e5c93",
   "metadata": {},
   "source": [
    "# Pandas"
   ]
  },
  {
   "cell_type": "markdown",
   "id": "999c3589",
   "metadata": {},
   "source": [
    "### 8. Create a dataframe with 3 rows and 2 columns"
   ]
  },
  {
   "cell_type": "code",
   "execution_count": 13,
   "id": "410f53e7",
   "metadata": {},
   "outputs": [],
   "source": [
    "import pandas as pd"
   ]
  },
  {
   "cell_type": "code",
   "execution_count": 14,
   "id": "6bd88f35",
   "metadata": {},
   "outputs": [
    {
     "name": "stdout",
     "output_type": "stream",
     "text": [
      "    Name  Age\n",
      "0   Hari   55\n",
      "1  vamsi   20\n",
      "2    sai   30\n"
     ]
    }
   ],
   "source": [
    "data=[ [ 'Hari' , 55], ['vamsi' , 20], [ 'sai' , 30] ]\n",
    "a=pd . DataFrame (data, columns=[ 'Name' , 'Age' ])\n",
    "\n",
    "print(a)"
   ]
  },
  {
   "cell_type": "markdown",
   "id": "4fcb024f",
   "metadata": {},
   "source": [
    "### 9. Generate the series of dates from 1st Jan, 2023 to 10th Feb, 2023"
   ]
  },
  {
   "cell_type": "code",
   "execution_count": 15,
   "id": "5b265cfb",
   "metadata": {},
   "outputs": [
    {
     "data": {
      "text/plain": [
       "[datetime.date(2023, 1, 1),\n",
       " datetime.date(2023, 1, 2),\n",
       " datetime.date(2023, 1, 3),\n",
       " datetime.date(2023, 1, 4),\n",
       " datetime.date(2023, 1, 5),\n",
       " datetime.date(2023, 1, 6),\n",
       " datetime.date(2023, 1, 7),\n",
       " datetime.date(2023, 1, 8),\n",
       " datetime.date(2023, 1, 9),\n",
       " datetime.date(2023, 1, 10),\n",
       " datetime.date(2023, 1, 11),\n",
       " datetime.date(2023, 1, 12),\n",
       " datetime.date(2023, 1, 13),\n",
       " datetime.date(2023, 1, 14),\n",
       " datetime.date(2023, 1, 15),\n",
       " datetime.date(2023, 1, 16),\n",
       " datetime.date(2023, 1, 17),\n",
       " datetime.date(2023, 1, 18),\n",
       " datetime.date(2023, 1, 19),\n",
       " datetime.date(2023, 1, 20),\n",
       " datetime.date(2023, 1, 21),\n",
       " datetime.date(2023, 1, 22),\n",
       " datetime.date(2023, 1, 23),\n",
       " datetime.date(2023, 1, 24),\n",
       " datetime.date(2023, 1, 25),\n",
       " datetime.date(2023, 1, 26),\n",
       " datetime.date(2023, 1, 27),\n",
       " datetime.date(2023, 1, 28),\n",
       " datetime.date(2023, 1, 29),\n",
       " datetime.date(2023, 1, 30),\n",
       " datetime.date(2023, 1, 31),\n",
       " datetime.date(2023, 2, 1),\n",
       " datetime.date(2023, 2, 2),\n",
       " datetime.date(2023, 2, 3),\n",
       " datetime.date(2023, 2, 4),\n",
       " datetime.date(2023, 2, 5),\n",
       " datetime.date(2023, 2, 6),\n",
       " datetime.date(2023, 2, 7),\n",
       " datetime.date(2023, 2, 8),\n",
       " datetime.date(2023, 2, 9),\n",
       " datetime.date(2023, 2, 10)]"
      ]
     },
     "execution_count": 15,
     "metadata": {},
     "output_type": "execute_result"
    }
   ],
   "source": [
    "from datetime import date, timedelta\n",
    "\n",
    "sdate = date(2023,1,1)   \n",
    "edate = date(2023,2,11)   \n",
    "\n",
    "[sdate+timedelta(days=x) for x in range((edate-sdate).days)]"
   ]
  },
  {
   "cell_type": "markdown",
   "id": "6497ee19",
   "metadata": {},
   "source": [
    "### 10. Create 2D list to DataFrame\n",
    "\n",
    "### lists = [[1, 'aaa', 22], [2, 'bbb', 25], [3, 'ccc', 24]]"
   ]
  },
  {
   "cell_type": "code",
   "execution_count": 16,
   "id": "6a651fac",
   "metadata": {},
   "outputs": [],
   "source": [
    "lists = [[1, 'aaa', 22], [2, 'bbb', 25], [3, 'ccc', 24]]"
   ]
  },
  {
   "cell_type": "code",
   "execution_count": 17,
   "id": "06a07a26",
   "metadata": {},
   "outputs": [
    {
     "name": "stdout",
     "output_type": "stream",
     "text": [
      "   Number FName  Age\n",
      "0       1   aaa   22\n",
      "1       2   bbb   25\n",
      "2       3   ccc   24\n"
     ]
    }
   ],
   "source": [
    "lists=[[1, 'aaa', 22], [2, 'bbb', 25], [3, 'ccc', 24]]\n",
    "df=pd.DataFrame(lists, columns=[ 'Number' , 'FName' , 'Age' ])\n",
    "print (df)"
   ]
  }
 ],
 "metadata": {
  "kernelspec": {
   "display_name": "Python 3 (ipykernel)",
   "language": "python",
   "name": "python3"
  },
  "language_info": {
   "codemirror_mode": {
    "name": "ipython",
    "version": 3
   },
   "file_extension": ".py",
   "mimetype": "text/x-python",
   "name": "python",
   "nbconvert_exporter": "python",
   "pygments_lexer": "ipython3",
   "version": "3.9.13"
  }
 },
 "nbformat": 4,
 "nbformat_minor": 5
}
