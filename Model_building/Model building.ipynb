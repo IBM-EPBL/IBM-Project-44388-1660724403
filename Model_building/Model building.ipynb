{
 "cells": [
  {
   "cell_type": "code",
   "execution_count": 1,
   "id": "3a4608a8",
   "metadata": {},
   "outputs": [],
   "source": [
    "from keras.models import Sequential\n",
    "from keras.layers import Dense\n",
    "from keras.layers import Conv2D\n",
    "from keras.layers import MaxPooling2D\n",
    "from keras.layers import Flatten\n"
   ]
  },
  {
   "cell_type": "code",
   "execution_count": 2,
   "id": "8e367468",
   "metadata": {},
   "outputs": [],
   "source": [
    "model=Sequential()\n"
   ]
  },
  {
   "cell_type": "code",
   "execution_count": 3,
   "id": "9de883b4",
   "metadata": {},
   "outputs": [],
   "source": [
    "model.add(Conv2D(32,3,3,input_shape=(64,64,3),activation='relu'))"
   ]
  },
  {
   "cell_type": "code",
   "execution_count": 5,
   "id": "4e18221e",
   "metadata": {},
   "outputs": [],
   "source": [
    "model.add(MaxPooling2D(pool_size=(2,2)))"
   ]
  },
  {
   "cell_type": "code",
   "execution_count": 6,
   "id": "22b84ea3",
   "metadata": {},
   "outputs": [],
   "source": [
    "model.add(Flatten())\n"
   ]
  },
  {
   "cell_type": "code",
   "execution_count": 8,
   "id": "0f6325c6",
   "metadata": {},
   "outputs": [],
   "source": [
    "model.add(Dense(units=128,activation='relu',kernel_initializer='random_uniform'))\n"
   ]
  },
  {
   "cell_type": "code",
   "execution_count": 9,
   "id": "641db6f3",
   "metadata": {},
   "outputs": [],
   "source": [
    "model.add(Dense(units=1,activation='sigmoid',kernel_initializer='random_uniform'))\n"
   ]
  },
  {
   "cell_type": "code",
   "execution_count": 10,
   "id": "5dc81485",
   "metadata": {},
   "outputs": [],
   "source": [
    "model.compile(optimizer='adam',loss='binary_crossentropy',metrics=['accuracy'])\n"
   ]
  },
  {
   "cell_type": "code",
   "execution_count": 11,
   "id": "b80d8d07",
   "metadata": {},
   "outputs": [
    {
     "name": "stdout",
     "output_type": "stream",
     "text": [
      "Found 4118 images belonging to 5 classes.\n",
      "Found 929 images belonging to 5 classes.\n",
      "{'APPLES': 0, 'BANANA': 1, 'ORANGE': 2, 'PINEAPPLE': 3, 'WATERMELON': 4}\n"
     ]
    }
   ],
   "source": [
    "from keras.preprocessing.image import ImageDataGenerator\n",
    "\n",
    "\n",
    "# In[10]:\n",
    "\n",
    "\n",
    "train_datagen=ImageDataGenerator(rescale=1./255,shear_range=0.2,zoom_range=0.2,horizontal_flip=True)\n",
    "test_datagen = ImageDataGenerator(rescale=1./255)\n",
    "\n",
    "\n",
    "# In[11]:\n",
    "\n",
    "\n",
    "x_train = train_datagen.flow_from_directory(r\"E:\\Dataset\\TRAIN_SET\",target_size=(64,64),batch_size=32,class_mode='binary')\n",
    "x_test = train_datagen.flow_from_directory(r\"E:\\Dataset\\TEST_SET\",target_size=(64,64),batch_size=32,class_mode='binary')\n",
    "\n",
    "\n",
    "# In[12]:\n",
    "\n",
    "\n",
    "print(x_train.class_indices)"
   ]
  },
  {
   "cell_type": "code",
   "execution_count": 12,
   "id": "e94c17c9",
   "metadata": {},
   "outputs": [
    {
     "name": "stderr",
     "output_type": "stream",
     "text": [
      "C:\\Users\\Dell\\AppData\\Local\\Temp\\ipykernel_9516\\984688948.py:1: UserWarning: `Model.fit_generator` is deprecated and will be removed in a future version. Please use `Model.fit`, which supports generators.\n",
      "  model.fit_generator(x_train,steps_per_epoch=len(x_train), validation_data=x_test, validation_steps=len(x_test), epochs= 25)\n"
     ]
    },
    {
     "name": "stdout",
     "output_type": "stream",
     "text": [
      "Epoch 1/25\n",
      "129/129 [==============================] - 16s 120ms/step - loss: -526.9733 - accuracy: 0.3271 - val_loss: 108.1108 - val_accuracy: 0.4467\n",
      "Epoch 2/25\n",
      "129/129 [==============================] - 17s 133ms/step - loss: -11956.2021 - accuracy: 0.3288 - val_loss: 1329.3062 - val_accuracy: 0.4467\n",
      "Epoch 3/25\n",
      "129/129 [==============================] - 18s 143ms/step - loss: -64759.4414 - accuracy: 0.3288 - val_loss: 5276.5220 - val_accuracy: 0.4467\n",
      "Epoch 4/25\n",
      "129/129 [==============================] - 15s 119ms/step - loss: -192455.0312 - accuracy: 0.3288 - val_loss: 13251.0596 - val_accuracy: 0.4467\n",
      "Epoch 5/25\n",
      "129/129 [==============================] - 21s 164ms/step - loss: -421505.5938 - accuracy: 0.3288 - val_loss: 27025.2578 - val_accuracy: 0.4467\n",
      "Epoch 6/25\n",
      "129/129 [==============================] - 26s 200ms/step - loss: -765550.4375 - accuracy: 0.3288 - val_loss: 46474.6953 - val_accuracy: 0.4467\n",
      "Epoch 7/25\n",
      "129/129 [==============================] - 20s 157ms/step - loss: -1248933.0000 - accuracy: 0.3288 - val_loss: 72949.1016 - val_accuracy: 0.4467\n",
      "Epoch 8/25\n",
      "129/129 [==============================] - 17s 129ms/step - loss: -1904582.7500 - accuracy: 0.3288 - val_loss: 107835.0312 - val_accuracy: 0.4467\n",
      "Epoch 9/25\n",
      "129/129 [==============================] - 16s 120ms/step - loss: -2724724.0000 - accuracy: 0.3288 - val_loss: 150483.9375 - val_accuracy: 0.4467\n",
      "Epoch 10/25\n",
      "129/129 [==============================] - 15s 113ms/step - loss: -3724135.0000 - accuracy: 0.3288 - val_loss: 212626.4688 - val_accuracy: 0.4467\n",
      "Epoch 11/25\n",
      "129/129 [==============================] - 15s 116ms/step - loss: -4924175.5000 - accuracy: 0.3288 - val_loss: 260882.5938 - val_accuracy: 0.4467\n",
      "Epoch 12/25\n",
      "129/129 [==============================] - 15s 116ms/step - loss: -6328538.5000 - accuracy: 0.3288 - val_loss: 337665.4062 - val_accuracy: 0.4467\n",
      "Epoch 13/25\n",
      "129/129 [==============================] - 16s 121ms/step - loss: -7925719.5000 - accuracy: 0.3288 - val_loss: 420540.7188 - val_accuracy: 0.4467\n",
      "Epoch 14/25\n",
      "129/129 [==============================] - 14s 112ms/step - loss: -9789189.0000 - accuracy: 0.3288 - val_loss: 495136.0312 - val_accuracy: 0.4467\n",
      "Epoch 15/25\n",
      "129/129 [==============================] - 15s 112ms/step - loss: -11811079.0000 - accuracy: 0.3288 - val_loss: 610445.3750 - val_accuracy: 0.4467\n",
      "Epoch 16/25\n",
      "129/129 [==============================] - 14s 112ms/step - loss: -14074185.0000 - accuracy: 0.3288 - val_loss: 661438.7500 - val_accuracy: 0.4467\n",
      "Epoch 17/25\n",
      "129/129 [==============================] - 14s 112ms/step - loss: -16629597.0000 - accuracy: 0.3288 - val_loss: 916406.1250 - val_accuracy: 0.4467\n",
      "Epoch 18/25\n",
      "129/129 [==============================] - 15s 119ms/step - loss: -19536058.0000 - accuracy: 0.3288 - val_loss: 955372.7500 - val_accuracy: 0.4467\n",
      "Epoch 19/25\n",
      "129/129 [==============================] - 15s 113ms/step - loss: -22567464.0000 - accuracy: 0.3288 - val_loss: 1062346.8750 - val_accuracy: 0.4467\n",
      "Epoch 20/25\n",
      "129/129 [==============================] - 16s 122ms/step - loss: -25935882.0000 - accuracy: 0.3288 - val_loss: 1360628.2500 - val_accuracy: 0.4467\n",
      "Epoch 21/25\n",
      "129/129 [==============================] - 15s 119ms/step - loss: -29492856.0000 - accuracy: 0.3288 - val_loss: 1460700.0000 - val_accuracy: 0.4467\n",
      "Epoch 22/25\n",
      "129/129 [==============================] - 16s 127ms/step - loss: -33176474.0000 - accuracy: 0.3288 - val_loss: 1709325.1250 - val_accuracy: 0.4467\n",
      "Epoch 23/25\n",
      "129/129 [==============================] - 15s 120ms/step - loss: -37060516.0000 - accuracy: 0.3288 - val_loss: 1751155.6250 - val_accuracy: 0.4467\n",
      "Epoch 24/25\n",
      "129/129 [==============================] - 15s 118ms/step - loss: -41755216.0000 - accuracy: 0.3288 - val_loss: 2094377.0000 - val_accuracy: 0.4467\n",
      "Epoch 25/25\n",
      "129/129 [==============================] - 15s 119ms/step - loss: -46186624.0000 - accuracy: 0.3288 - val_loss: 2181267.7500 - val_accuracy: 0.4467\n"
     ]
    },
    {
     "data": {
      "text/plain": [
       "<keras.callbacks.History at 0x2372cfce1f0>"
      ]
     },
     "execution_count": 12,
     "metadata": {},
     "output_type": "execute_result"
    }
   ],
   "source": [
    "model.fit_generator(x_train,steps_per_epoch=len(x_train), validation_data=x_test, validation_steps=len(x_test), epochs= 25)\n"
   ]
  },
  {
   "cell_type": "code",
   "execution_count": 16,
   "id": "9cb3091e",
   "metadata": {},
   "outputs": [],
   "source": [
    "model.save('mymodel.h5')"
   ]
  },
  {
   "cell_type": "code",
   "execution_count": 17,
   "id": "b736f13a",
   "metadata": {},
   "outputs": [],
   "source": [
    "from keras.models import load_model\n",
    "import numpy as np\n",
    "import cv2\n",
    "model = load_model('mymodel.h5')"
   ]
  },
  {
   "cell_type": "code",
   "execution_count": 18,
   "id": "b126b8b9",
   "metadata": {},
   "outputs": [],
   "source": [
    "model.compile(optimizer='adam',loss='binary_crossentropy',metrics=['accuracy'])"
   ]
  },
  {
   "cell_type": "code",
   "execution_count": 21,
   "id": "5f75e639",
   "metadata": {},
   "outputs": [],
   "source": [
    "from skimage.transform import resize\n",
    "def detect(frame):\n",
    "    try:\n",
    "        img = resize(frame,(64,64))\n",
    "        img = np.expand_dims(img,axis=0)\n",
    "        if(np.max(img)>1):\n",
    "            img = img/255.0\n",
    "        prediction = model.predict(img)\n",
    "        print(prediction)\n",
    "        prediction_class = model.predict_classes(img)\n",
    "        print(prediction_class)\n",
    "    except:\n",
    "        print(\"shape not found\")"
   ]
  },
  {
   "cell_type": "code",
   "execution_count": 22,
   "id": "f6503dce",
   "metadata": {},
   "outputs": [
    {
     "name": "stdout",
     "output_type": "stream",
     "text": [
      "shape not found\n"
     ]
    }
   ],
   "source": [
    "frame = cv2.imread(\"cat.jpg\")\n",
    "data = detect(frame)"
   ]
  },
  {
   "cell_type": "code",
   "execution_count": 23,
   "id": "7186ea3a",
   "metadata": {},
   "outputs": [
    {
     "name": "stdout",
     "output_type": "stream",
     "text": [
      "shape not found\n"
     ]
    }
   ],
   "source": [
    "frame = cv2.imread(\"apple.jpg\")\n",
    "data = detect(frame)"
   ]
  }
 ],
 "metadata": {
  "kernelspec": {
   "display_name": "Python 3 (ipykernel)",
   "language": "python",
   "name": "python3"
  },
  "language_info": {
   "codemirror_mode": {
    "name": "ipython",
    "version": 3
   },
   "file_extension": ".py",
   "mimetype": "text/x-python",
   "name": "python",
   "nbconvert_exporter": "python",
   "pygments_lexer": "ipython3",
   "version": "3.9.13"
  }
 },
 "nbformat": 4,
 "nbformat_minor": 5
}
